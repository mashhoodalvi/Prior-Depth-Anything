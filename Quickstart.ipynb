{
  "nbformat": 4,
  "nbformat_minor": 0,
  "metadata": {
    "colab": {
      "provenance": [],
      "mount_file_id": "1EzBvjX9k3ioDGRn-qUGUABHyzu41vncD",
      "authorship_tag": "ABX9TyMrgo7m1nyo+720+bSgXxLQ",
      "include_colab_link": true
    },
    "kernelspec": {
      "name": "python3",
      "display_name": "Python 3"
    },
    "language_info": {
      "name": "python"
    }
  },
  "cells": [
    {
      "cell_type": "markdown",
      "metadata": {
        "id": "view-in-github",
        "colab_type": "text"
      },
      "source": [
        "<a href=\"https://colab.research.google.com/github/mashhoodalvi/Prior-Depth-Anything/blob/main/Quickstart.ipynb\" target=\"_parent\"><img src=\"https://colab.research.google.com/assets/colab-badge.svg\" alt=\"Open In Colab\"/></a>"
      ]
    },
    {
      "cell_type": "code",
      "execution_count": 3,
      "metadata": {
        "colab": {
          "base_uri": "https://localhost:8080/"
        },
        "id": "vqpdzVZEtGWK",
        "outputId": "48cc4600-61ea-440d-dfd6-cb5e9ddd88ad"
      },
      "outputs": [
        {
          "output_type": "stream",
          "name": "stdout",
          "text": [
            "Cloning into 'Marigold-DC'...\n",
            "remote: Enumerating objects: 98, done.\u001b[K\n",
            "remote: Counting objects:   1% (1/55)\u001b[K\rremote: Counting objects:   3% (2/55)\u001b[K\rremote: Counting objects:   5% (3/55)\u001b[K\rremote: Counting objects:   7% (4/55)\u001b[K\rremote: Counting objects:   9% (5/55)\u001b[K\rremote: Counting objects:  10% (6/55)\u001b[K\rremote: Counting objects:  12% (7/55)\u001b[K\rremote: Counting objects:  14% (8/55)\u001b[K\rremote: Counting objects:  16% (9/55)\u001b[K\rremote: Counting objects:  18% (10/55)\u001b[K\rremote: Counting objects:  20% (11/55)\u001b[K\rremote: Counting objects:  21% (12/55)\u001b[K\rremote: Counting objects:  23% (13/55)\u001b[K\rremote: Counting objects:  25% (14/55)\u001b[K\rremote: Counting objects:  27% (15/55)\u001b[K\rremote: Counting objects:  29% (16/55)\u001b[K\rremote: Counting objects:  30% (17/55)\u001b[K\rremote: Counting objects:  32% (18/55)\u001b[K\rremote: Counting objects:  34% (19/55)\u001b[K\rremote: Counting objects:  36% (20/55)\u001b[K\rremote: Counting objects:  38% (21/55)\u001b[K\rremote: Counting objects:  40% (22/55)\u001b[K\rremote: Counting objects:  41% (23/55)\u001b[K\rremote: Counting objects:  43% (24/55)\u001b[K\rremote: Counting objects:  45% (25/55)\u001b[K\rremote: Counting objects:  47% (26/55)\u001b[K\rremote: Counting objects:  49% (27/55)\u001b[K\rremote: Counting objects:  50% (28/55)\u001b[K\rremote: Counting objects:  52% (29/55)\u001b[K\rremote: Counting objects:  54% (30/55)\u001b[K\rremote: Counting objects:  56% (31/55)\u001b[K\rremote: Counting objects:  58% (32/55)\u001b[K\rremote: Counting objects:  60% (33/55)\u001b[K\rremote: Counting objects:  61% (34/55)\u001b[K\rremote: Counting objects:  63% (35/55)\u001b[K\rremote: Counting objects:  65% (36/55)\u001b[K\rremote: Counting objects:  67% (37/55)\u001b[K\rremote: Counting objects:  69% (38/55)\u001b[K\rremote: Counting objects:  70% (39/55)\u001b[K\rremote: Counting objects:  72% (40/55)\u001b[K\rremote: Counting objects:  74% (41/55)\u001b[K\rremote: Counting objects:  76% (42/55)\u001b[K\rremote: Counting objects:  78% (43/55)\u001b[K\rremote: Counting objects:  80% (44/55)\u001b[K\rremote: Counting objects:  81% (45/55)\u001b[K\rremote: Counting objects:  83% (46/55)\u001b[K\rremote: Counting objects:  85% (47/55)\u001b[K\rremote: Counting objects:  87% (48/55)\u001b[K\rremote: Counting objects:  89% (49/55)\u001b[K\rremote: Counting objects:  90% (50/55)\u001b[K\rremote: Counting objects:  92% (51/55)\u001b[K\rremote: Counting objects:  94% (52/55)\u001b[K\rremote: Counting objects:  96% (53/55)\u001b[K\rremote: Counting objects:  98% (54/55)\u001b[K\rremote: Counting objects: 100% (55/55)\u001b[K\rremote: Counting objects: 100% (55/55), done.\u001b[K\n",
            "remote: Compressing objects: 100% (25/25), done.\u001b[K\n",
            "remote: Total 98 (delta 42), reused 38 (delta 28), pack-reused 43 (from 2)\u001b[K\n",
            "Receiving objects: 100% (98/98), 3.76 MiB | 33.44 MiB/s, done.\n",
            "Resolving deltas: 100% (60/60), done.\n"
          ]
        }
      ],
      "source": [
        "import torch\n",
        "from prior_depth_anything import PriorDepthAnything\n",
        "\n",
        "device = \"cuda:0\" if torch.cuda.is_available() else \"cpu\"\n",
        "priorda = PriorDepthAnything(device=device)\n",
        "image_path = 'assets/sample-2/rgb.jpg'\n",
        "prior_path = 'assets/sample-2/prior_depth.png'\n",
        "\n",
        "output = priorda.infer_one_sample(image=image_path, prior=prior_path, visualize=True)"
      ]
    },
    {
      "cell_type": "code",
      "source": [],
      "metadata": {
        "id": "oby8-qNzw9dR"
      },
      "execution_count": null,
      "outputs": []
    }
  ]
}